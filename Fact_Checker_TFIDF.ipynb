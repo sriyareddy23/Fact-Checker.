{
 "cells": [
  {
   "cell_type": "markdown",
   "metadata": {
    "colab_type": "text",
    "id": "view-in-github"
   },
   "source": [
    "<a href=\"https://colab.research.google.com/github/Prabhitha/FakeNewsDetection/blob/main/FakeNewsDetection_TFIDF_Vectorization.ipynb\" target=\"_parent\"><img src=\"https://colab.research.google.com/assets/colab-badge.svg\" alt=\"Open In Colab\"/></a>"
   ]
  },
  {
   "cell_type": "markdown",
   "metadata": {
    "id": "ohbHUbSYb5As"
   },
   "source": [
    "# Training the TFIDF- Vectorized data on different Machine Learning models\n",
    "###1. Logistic Regression\n",
    "###2. Linear SVM\n",
    "###3. Gradient Boosted Decision Tree(GBDT)\n",
    "###4. Random Forest"
   ]
  },
  {
   "cell_type": "code",
   "execution_count": null,
   "metadata": {
    "colab": {
     "base_uri": "https://localhost:8080/"
    },
    "id": "GufMRmZyNeNz",
    "outputId": "d01fc0ef-649e-4637-b217-4c72bb1eabfa"
   },
   "outputs": [
    {
     "name": "stdout",
     "output_type": "stream",
     "text": [
      "[nltk_data] Downloading package stopwords to /root/nltk_data...\n",
      "[nltk_data]   Unzipping corpora/stopwords.zip.\n",
      "[nltk_data] Downloading package averaged_perceptron_tagger to\n",
      "[nltk_data]     /root/nltk_data...\n",
      "[nltk_data]   Unzipping taggers/averaged_perceptron_tagger.zip.\n"
     ]
    }
   ],
   "source": [
    "#Importing Libraries\n",
    "\n",
    "import warnings\n",
    "warnings.filterwarnings('ignore')\n",
    "\n",
    "import os\n",
    "import re\n",
    "import spacy\n",
    "import pickle\n",
    "import numpy as np\n",
    "import pandas as pd \n",
    "import seaborn as sns\n",
    "from bs4 import BeautifulSoup\n",
    "from tqdm.notebook import tqdm\n",
    "import matplotlib.pyplot as plt\n",
    "from wordcloud import WordCloud\n",
    "from collections import Counter\n",
    "from sklearn.manifold import TSNE\n",
    "from prettytable import PrettyTable\n",
    "from sklearn.preprocessing import LabelEncoder\n",
    "from imblearn.over_sampling import BorderlineSMOTE \n",
    "from sklearn.model_selection import train_test_split\n",
    "\n",
    "import xgboost as xgb\n",
    "from sklearn.metrics import accuracy_score\n",
    "from sklearn.linear_model import SGDClassifier\n",
    "from sklearn.preprocessing import StandardScaler\n",
    "from sklearn.model_selection import train_test_split\n",
    "from sklearn.metrics import log_loss, confusion_matrix\n",
    "from sklearn.calibration import CalibratedClassifierCV\n",
    "from sklearn.feature_extraction.text import TfidfVectorizer\n",
    "from sklearn.ensemble import RandomForestClassifier \n",
    "\n",
    "import nltk\n",
    "nltk.download('stopwords')\n",
    "nltk.download('averaged_perceptron_tagger')\n",
    "from nltk.corpus import stopwords\n",
    "from nltk.stem import PorterStemmer\n",
    "\n",
    "\n",
    "%matplotlib inline\n",
    "sns.set(style=\"whitegrid\")\n",
    "colors = sns.color_palette()"
   ]
  },
  {
   "cell_type": "code",
   "execution_count": null,
   "metadata": {
    "colab": {
     "base_uri": "https://localhost:8080/"
    },
    "id": "rtqJ1ICIEzgw",
    "outputId": "b5996a71-44ef-43ef-e2fe-15686b6ef810"
   },
   "outputs": [
    {
     "name": "stdout",
     "output_type": "stream",
     "text": [
      "Mounted at /content/drive\n"
     ]
    }
   ],
   "source": [
    "from google.colab import drive\n",
    "drive.mount('/content/drive', force_remount=True)"
   ]
  },
  {
   "cell_type": "code",
   "execution_count": null,
   "metadata": {
    "id": "aYtDEl9SEzkA"
   },
   "outputs": [],
   "source": [
    "# Load the Pre-processed data\n",
    "\n",
    "if os.path.isfile('/content/drive/My Drive/Fake News Detection/cleaned_featurized_train.csv'):\n",
    "  train_data = pd.read_csv('/content/drive/My Drive/Fake News Detection/cleaned_featurized_train.csv')\n",
    "  train_labels = np.load('/content/drive/My Drive/Fake News Detection/train_labels.npy')\n",
    " \n",
    "  test_data = pd.read_csv('/content/drive/My Drive/Fake News Detection/cleaned_featurized_test.csv')\n",
    "  test_labels = np.load('/content/drive/My Drive/Fake News Detection/test_labels.npy')"
   ]
  },
  {
   "cell_type": "code",
   "execution_count": null,
   "metadata": {
    "colab": {
     "base_uri": "https://localhost:8080/",
     "height": 223
    },
    "id": "vKrTJ_kFSXZa",
    "outputId": "3891a996-4116-422b-c176-7c5741589da2"
   },
   "outputs": [
    {
     "name": "stdout",
     "output_type": "stream",
     "text": [
      "(31428, 2)\n"
     ]
    },
    {
     "data": {
      "text/html": [
       "\n",
       "  <div id=\"df-e6cabda6-3894-46b5-b813-323d4cd50449\">\n",
       "    <div class=\"colab-df-container\">\n",
       "      <div>\n",
       "<style scoped>\n",
       "    .dataframe tbody tr th:only-of-type {\n",
       "        vertical-align: middle;\n",
       "    }\n",
       "\n",
       "    .dataframe tbody tr th {\n",
       "        vertical-align: top;\n",
       "    }\n",
       "\n",
       "    .dataframe thead th {\n",
       "        text-align: right;\n",
       "    }\n",
       "</style>\n",
       "<table border=\"1\" class=\"dataframe\">\n",
       "  <thead>\n",
       "    <tr style=\"text-align: right;\">\n",
       "      <th></th>\n",
       "      <th>text</th>\n",
       "      <th>label</th>\n",
       "    </tr>\n",
       "  </thead>\n",
       "  <tbody>\n",
       "    <tr>\n",
       "      <th>0</th>\n",
       "      <td>first hand account happen baltimor shock unrea...</td>\n",
       "      <td>0</td>\n",
       "    </tr>\n",
       "    <tr>\n",
       "      <th>1</th>\n",
       "      <td>meanwhil american afford take singl vacat judi...</td>\n",
       "      <td>0</td>\n",
       "    </tr>\n",
       "    <tr>\n",
       "      <th>2</th>\n",
       "      <td>despit tough talk intern affair slam democrat ...</td>\n",
       "      <td>0</td>\n",
       "    </tr>\n",
       "    <tr>\n",
       "      <th>3</th>\n",
       "      <td>hell frozen cnn actual report truth cnn legal ...</td>\n",
       "      <td>0</td>\n",
       "    </tr>\n",
       "    <tr>\n",
       "      <th>4</th>\n",
       "      <td>madrid reuter head catalan region govern sunda...</td>\n",
       "      <td>1</td>\n",
       "    </tr>\n",
       "  </tbody>\n",
       "</table>\n",
       "</div>\n",
       "      <button class=\"colab-df-convert\" onclick=\"convertToInteractive('df-e6cabda6-3894-46b5-b813-323d4cd50449')\"\n",
       "              title=\"Convert this dataframe to an interactive table.\"\n",
       "              style=\"display:none;\">\n",
       "        \n",
       "  <svg xmlns=\"http://www.w3.org/2000/svg\" height=\"24px\"viewBox=\"0 0 24 24\"\n",
       "       width=\"24px\">\n",
       "    <path d=\"M0 0h24v24H0V0z\" fill=\"none\"/>\n",
       "    <path d=\"M18.56 5.44l.94 2.06.94-2.06 2.06-.94-2.06-.94-.94-2.06-.94 2.06-2.06.94zm-11 1L8.5 8.5l.94-2.06 2.06-.94-2.06-.94L8.5 2.5l-.94 2.06-2.06.94zm10 10l.94 2.06.94-2.06 2.06-.94-2.06-.94-.94-2.06-.94 2.06-2.06.94z\"/><path d=\"M17.41 7.96l-1.37-1.37c-.4-.4-.92-.59-1.43-.59-.52 0-1.04.2-1.43.59L10.3 9.45l-7.72 7.72c-.78.78-.78 2.05 0 2.83L4 21.41c.39.39.9.59 1.41.59.51 0 1.02-.2 1.41-.59l7.78-7.78 2.81-2.81c.8-.78.8-2.07 0-2.86zM5.41 20L4 18.59l7.72-7.72 1.47 1.35L5.41 20z\"/>\n",
       "  </svg>\n",
       "      </button>\n",
       "      \n",
       "  <style>\n",
       "    .colab-df-container {\n",
       "      display:flex;\n",
       "      flex-wrap:wrap;\n",
       "      gap: 12px;\n",
       "    }\n",
       "\n",
       "    .colab-df-convert {\n",
       "      background-color: #E8F0FE;\n",
       "      border: none;\n",
       "      border-radius: 50%;\n",
       "      cursor: pointer;\n",
       "      display: none;\n",
       "      fill: #1967D2;\n",
       "      height: 32px;\n",
       "      padding: 0 0 0 0;\n",
       "      width: 32px;\n",
       "    }\n",
       "\n",
       "    .colab-df-convert:hover {\n",
       "      background-color: #E2EBFA;\n",
       "      box-shadow: 0px 1px 2px rgba(60, 64, 67, 0.3), 0px 1px 3px 1px rgba(60, 64, 67, 0.15);\n",
       "      fill: #174EA6;\n",
       "    }\n",
       "\n",
       "    [theme=dark] .colab-df-convert {\n",
       "      background-color: #3B4455;\n",
       "      fill: #D2E3FC;\n",
       "    }\n",
       "\n",
       "    [theme=dark] .colab-df-convert:hover {\n",
       "      background-color: #434B5C;\n",
       "      box-shadow: 0px 1px 3px 1px rgba(0, 0, 0, 0.15);\n",
       "      filter: drop-shadow(0px 1px 2px rgba(0, 0, 0, 0.3));\n",
       "      fill: #FFFFFF;\n",
       "    }\n",
       "  </style>\n",
       "\n",
       "      <script>\n",
       "        const buttonEl =\n",
       "          document.querySelector('#df-e6cabda6-3894-46b5-b813-323d4cd50449 button.colab-df-convert');\n",
       "        buttonEl.style.display =\n",
       "          google.colab.kernel.accessAllowed ? 'block' : 'none';\n",
       "\n",
       "        async function convertToInteractive(key) {\n",
       "          const element = document.querySelector('#df-e6cabda6-3894-46b5-b813-323d4cd50449');\n",
       "          const dataTable =\n",
       "            await google.colab.kernel.invokeFunction('convertToInteractive',\n",
       "                                                     [key], {});\n",
       "          if (!dataTable) return;\n",
       "\n",
       "          const docLinkHtml = 'Like what you see? Visit the ' +\n",
       "            '<a target=\"_blank\" href=https://colab.research.google.com/notebooks/data_table.ipynb>data table notebook</a>'\n",
       "            + ' to learn more about interactive tables.';\n",
       "          element.innerHTML = '';\n",
       "          dataTable['output_type'] = 'display_data';\n",
       "          await google.colab.output.renderOutput(dataTable, element);\n",
       "          const docLink = document.createElement('div');\n",
       "          docLink.innerHTML = docLinkHtml;\n",
       "          element.appendChild(docLink);\n",
       "        }\n",
       "      </script>\n",
       "    </div>\n",
       "  </div>\n",
       "  "
      ],
      "text/plain": [
       "                                                text  label\n",
       "0  first hand account happen baltimor shock unrea...      0\n",
       "1  meanwhil american afford take singl vacat judi...      0\n",
       "2  despit tough talk intern affair slam democrat ...      0\n",
       "3  hell frozen cnn actual report truth cnn legal ...      0\n",
       "4  madrid reuter head catalan region govern sunda...      1"
      ]
     },
     "execution_count": 4,
     "metadata": {},
     "output_type": "execute_result"
    }
   ],
   "source": [
    "print(train_data.shape)\n",
    "train_data.head()"
   ]
  },
  {
   "cell_type": "code",
   "execution_count": null,
   "metadata": {
    "id": "zCjTIIDweCr2"
   },
   "outputs": [],
   "source": [
    "# Encoding questions as unicode\n",
    "train_data['text'] = train_data['text'].apply(lambda x: str(x))\n",
    "test_data['text'] = test_data['text'].apply(lambda x: str(x))"
   ]
  },
  {
   "cell_type": "markdown",
   "metadata": {
    "id": "-DND7jkdLj-B"
   },
   "source": [
    "## TF - IDF embedding\n",
    "Let's try simple TF-IDF vectors with 5000 features."
   ]
  },
  {
   "cell_type": "code",
   "execution_count": null,
   "metadata": {
    "colab": {
     "base_uri": "https://localhost:8080/"
    },
    "id": "6HsW5S9mEzp_",
    "outputId": "bb95fcf0-70e5-4ecd-dfcf-c7879e449286"
   },
   "outputs": [
    {
     "name": "stdout",
     "output_type": "stream",
     "text": [
      "Vectorizing News\n",
      "Converting to DataFrames\n",
      "Train data: (31428, 5000)\n",
      "Test data: (13470, 5000)\n"
     ]
    }
   ],
   "source": [
    "# Initialize vectorizer\n",
    "vectorizer = TfidfVectorizer(max_features=5000, ngram_range=(1,3))\n",
    "\n",
    "# Vectorizing news\n",
    "print('Vectorizing News')\n",
    "tfidf_train = vectorizer.fit_transform(train_data['text'].values)\n",
    "tfidf_test = vectorizer.transform(test_data['text'].values)\n",
    "\n",
    "print('Converting to DataFrames')\n",
    "q_tfidf_train = pd.DataFrame.sparse.from_spmatrix(tfidf_train)\n",
    "q_tfidf_test = pd.DataFrame.sparse.from_spmatrix(tfidf_test)\n",
    "\n",
    "print(\"Train data:\", q_tfidf_train.shape)\n",
    "print(\"Test data:\", q_tfidf_test.shape)"
   ]
  },
  {
   "cell_type": "code",
   "execution_count": null,
   "metadata": {
    "colab": {
     "base_uri": "https://localhost:8080/"
    },
    "id": "lwM292ZGM8ZE",
    "outputId": "584cea6b-c817-420a-bea3-2b4fa19920d2"
   },
   "outputs": [
    {
     "data": {
      "text/plain": [
       "['heart',\n",
       " 'heat',\n",
       " 'heavi',\n",
       " 'heavili',\n",
       " 'hedg',\n",
       " 'hedg fund',\n",
       " 'height',\n",
       " 'held',\n",
       " 'helicopt',\n",
       " 'hell']"
      ]
     },
     "execution_count": 7,
     "metadata": {},
     "output_type": "execute_result"
    }
   ],
   "source": [
    "# features\n",
    "vectorizer.get_feature_names()[2000:2010]"
   ]
  },
  {
   "cell_type": "code",
   "execution_count": null,
   "metadata": {
    "colab": {
     "base_uri": "https://localhost:8080/",
     "height": 299
    },
    "id": "F8hrNX8e-ezx",
    "outputId": "cac5833c-f277-4e5b-de49-3e93a889dd30"
   },
   "outputs": [
    {
     "data": {
      "text/html": [
       "\n",
       "  <div id=\"df-83e782ee-4f18-4ce6-bd4a-fd317bcf2770\">\n",
       "    <div class=\"colab-df-container\">\n",
       "      <div>\n",
       "<style scoped>\n",
       "    .dataframe tbody tr th:only-of-type {\n",
       "        vertical-align: middle;\n",
       "    }\n",
       "\n",
       "    .dataframe tbody tr th {\n",
       "        vertical-align: top;\n",
       "    }\n",
       "\n",
       "    .dataframe thead th {\n",
       "        text-align: right;\n",
       "    }\n",
       "</style>\n",
       "<table border=\"1\" class=\"dataframe\">\n",
       "  <thead>\n",
       "    <tr style=\"text-align: right;\">\n",
       "      <th></th>\n",
       "      <th>0</th>\n",
       "      <th>1</th>\n",
       "      <th>2</th>\n",
       "      <th>3</th>\n",
       "      <th>4</th>\n",
       "      <th>5</th>\n",
       "      <th>6</th>\n",
       "      <th>7</th>\n",
       "      <th>8</th>\n",
       "      <th>9</th>\n",
       "      <th>10</th>\n",
       "      <th>11</th>\n",
       "      <th>12</th>\n",
       "      <th>13</th>\n",
       "      <th>14</th>\n",
       "      <th>15</th>\n",
       "      <th>16</th>\n",
       "      <th>17</th>\n",
       "      <th>18</th>\n",
       "      <th>19</th>\n",
       "      <th>20</th>\n",
       "      <th>21</th>\n",
       "      <th>22</th>\n",
       "      <th>23</th>\n",
       "      <th>24</th>\n",
       "      <th>25</th>\n",
       "      <th>26</th>\n",
       "      <th>27</th>\n",
       "      <th>28</th>\n",
       "      <th>29</th>\n",
       "      <th>30</th>\n",
       "      <th>31</th>\n",
       "      <th>32</th>\n",
       "      <th>33</th>\n",
       "      <th>34</th>\n",
       "      <th>35</th>\n",
       "      <th>36</th>\n",
       "      <th>37</th>\n",
       "      <th>38</th>\n",
       "      <th>39</th>\n",
       "      <th>...</th>\n",
       "      <th>4960</th>\n",
       "      <th>4961</th>\n",
       "      <th>4962</th>\n",
       "      <th>4963</th>\n",
       "      <th>4964</th>\n",
       "      <th>4965</th>\n",
       "      <th>4966</th>\n",
       "      <th>4967</th>\n",
       "      <th>4968</th>\n",
       "      <th>4969</th>\n",
       "      <th>4970</th>\n",
       "      <th>4971</th>\n",
       "      <th>4972</th>\n",
       "      <th>4973</th>\n",
       "      <th>4974</th>\n",
       "      <th>4975</th>\n",
       "      <th>4976</th>\n",
       "      <th>4977</th>\n",
       "      <th>4978</th>\n",
       "      <th>4979</th>\n",
       "      <th>4980</th>\n",
       "      <th>4981</th>\n",
       "      <th>4982</th>\n",
       "      <th>4983</th>\n",
       "      <th>4984</th>\n",
       "      <th>4985</th>\n",
       "      <th>4986</th>\n",
       "      <th>4987</th>\n",
       "      <th>4988</th>\n",
       "      <th>4989</th>\n",
       "      <th>4990</th>\n",
       "      <th>4991</th>\n",
       "      <th>4992</th>\n",
       "      <th>4993</th>\n",
       "      <th>4994</th>\n",
       "      <th>4995</th>\n",
       "      <th>4996</th>\n",
       "      <th>4997</th>\n",
       "      <th>4998</th>\n",
       "      <th>4999</th>\n",
       "    </tr>\n",
       "  </thead>\n",
       "  <tbody>\n",
       "    <tr>\n",
       "      <th>0</th>\n",
       "      <td>0.000000</td>\n",
       "      <td>0.0</td>\n",
       "      <td>0.0</td>\n",
       "      <td>0.0</td>\n",
       "      <td>0.0</td>\n",
       "      <td>0.0</td>\n",
       "      <td>0.0</td>\n",
       "      <td>0.024395</td>\n",
       "      <td>0.0</td>\n",
       "      <td>0.0</td>\n",
       "      <td>0.0</td>\n",
       "      <td>0.000000</td>\n",
       "      <td>0.023321</td>\n",
       "      <td>0.0</td>\n",
       "      <td>0.0</td>\n",
       "      <td>0.000000</td>\n",
       "      <td>0.000000</td>\n",
       "      <td>0.0</td>\n",
       "      <td>0.0</td>\n",
       "      <td>0.0</td>\n",
       "      <td>0.000000</td>\n",
       "      <td>0.0</td>\n",
       "      <td>0.000000</td>\n",
       "      <td>0.000000</td>\n",
       "      <td>0.0</td>\n",
       "      <td>0.0</td>\n",
       "      <td>0.0</td>\n",
       "      <td>0.0</td>\n",
       "      <td>0.0</td>\n",
       "      <td>0.0</td>\n",
       "      <td>0.0</td>\n",
       "      <td>0.0</td>\n",
       "      <td>0.021125</td>\n",
       "      <td>0.0</td>\n",
       "      <td>0.0</td>\n",
       "      <td>0.0</td>\n",
       "      <td>0.0</td>\n",
       "      <td>0.0</td>\n",
       "      <td>0.0</td>\n",
       "      <td>0.0</td>\n",
       "      <td>...</td>\n",
       "      <td>0.0</td>\n",
       "      <td>0.0</td>\n",
       "      <td>0.0</td>\n",
       "      <td>0.0</td>\n",
       "      <td>0.0</td>\n",
       "      <td>0.0</td>\n",
       "      <td>0.0</td>\n",
       "      <td>0.0</td>\n",
       "      <td>0.011214</td>\n",
       "      <td>0.0</td>\n",
       "      <td>0.0</td>\n",
       "      <td>0.0</td>\n",
       "      <td>0.0</td>\n",
       "      <td>0.0</td>\n",
       "      <td>0.0</td>\n",
       "      <td>0.0</td>\n",
       "      <td>0.0</td>\n",
       "      <td>0.000000</td>\n",
       "      <td>0.0</td>\n",
       "      <td>0.0</td>\n",
       "      <td>0.0</td>\n",
       "      <td>0.0</td>\n",
       "      <td>0.0</td>\n",
       "      <td>0.0</td>\n",
       "      <td>0.0</td>\n",
       "      <td>0.0</td>\n",
       "      <td>0.0</td>\n",
       "      <td>0.0</td>\n",
       "      <td>0.0</td>\n",
       "      <td>0.0</td>\n",
       "      <td>0.00000</td>\n",
       "      <td>0.0</td>\n",
       "      <td>0.0</td>\n",
       "      <td>0.0</td>\n",
       "      <td>0.0</td>\n",
       "      <td>0.0</td>\n",
       "      <td>0.0</td>\n",
       "      <td>0.0</td>\n",
       "      <td>0.0</td>\n",
       "      <td>0.0</td>\n",
       "    </tr>\n",
       "    <tr>\n",
       "      <th>1</th>\n",
       "      <td>0.034921</td>\n",
       "      <td>0.0</td>\n",
       "      <td>0.0</td>\n",
       "      <td>0.0</td>\n",
       "      <td>0.0</td>\n",
       "      <td>0.0</td>\n",
       "      <td>0.0</td>\n",
       "      <td>0.000000</td>\n",
       "      <td>0.0</td>\n",
       "      <td>0.0</td>\n",
       "      <td>0.0</td>\n",
       "      <td>0.000000</td>\n",
       "      <td>0.022693</td>\n",
       "      <td>0.0</td>\n",
       "      <td>0.0</td>\n",
       "      <td>0.025288</td>\n",
       "      <td>0.022099</td>\n",
       "      <td>0.0</td>\n",
       "      <td>0.0</td>\n",
       "      <td>0.0</td>\n",
       "      <td>0.000000</td>\n",
       "      <td>0.0</td>\n",
       "      <td>0.024941</td>\n",
       "      <td>0.026912</td>\n",
       "      <td>0.0</td>\n",
       "      <td>0.0</td>\n",
       "      <td>0.0</td>\n",
       "      <td>0.0</td>\n",
       "      <td>0.0</td>\n",
       "      <td>0.0</td>\n",
       "      <td>0.0</td>\n",
       "      <td>0.0</td>\n",
       "      <td>0.020556</td>\n",
       "      <td>0.0</td>\n",
       "      <td>0.0</td>\n",
       "      <td>0.0</td>\n",
       "      <td>0.0</td>\n",
       "      <td>0.0</td>\n",
       "      <td>0.0</td>\n",
       "      <td>0.0</td>\n",
       "      <td>...</td>\n",
       "      <td>0.0</td>\n",
       "      <td>0.0</td>\n",
       "      <td>0.0</td>\n",
       "      <td>0.0</td>\n",
       "      <td>0.0</td>\n",
       "      <td>0.0</td>\n",
       "      <td>0.0</td>\n",
       "      <td>0.0</td>\n",
       "      <td>0.021824</td>\n",
       "      <td>0.0</td>\n",
       "      <td>0.0</td>\n",
       "      <td>0.0</td>\n",
       "      <td>0.0</td>\n",
       "      <td>0.0</td>\n",
       "      <td>0.0</td>\n",
       "      <td>0.0</td>\n",
       "      <td>0.0</td>\n",
       "      <td>0.019233</td>\n",
       "      <td>0.0</td>\n",
       "      <td>0.0</td>\n",
       "      <td>0.0</td>\n",
       "      <td>0.0</td>\n",
       "      <td>0.0</td>\n",
       "      <td>0.0</td>\n",
       "      <td>0.0</td>\n",
       "      <td>0.0</td>\n",
       "      <td>0.0</td>\n",
       "      <td>0.0</td>\n",
       "      <td>0.0</td>\n",
       "      <td>0.0</td>\n",
       "      <td>0.00000</td>\n",
       "      <td>0.0</td>\n",
       "      <td>0.0</td>\n",
       "      <td>0.0</td>\n",
       "      <td>0.0</td>\n",
       "      <td>0.0</td>\n",
       "      <td>0.0</td>\n",
       "      <td>0.0</td>\n",
       "      <td>0.0</td>\n",
       "      <td>0.0</td>\n",
       "    </tr>\n",
       "    <tr>\n",
       "      <th>2</th>\n",
       "      <td>0.000000</td>\n",
       "      <td>0.0</td>\n",
       "      <td>0.0</td>\n",
       "      <td>0.0</td>\n",
       "      <td>0.0</td>\n",
       "      <td>0.0</td>\n",
       "      <td>0.0</td>\n",
       "      <td>0.000000</td>\n",
       "      <td>0.0</td>\n",
       "      <td>0.0</td>\n",
       "      <td>0.0</td>\n",
       "      <td>0.045519</td>\n",
       "      <td>0.000000</td>\n",
       "      <td>0.0</td>\n",
       "      <td>0.0</td>\n",
       "      <td>0.000000</td>\n",
       "      <td>0.000000</td>\n",
       "      <td>0.0</td>\n",
       "      <td>0.0</td>\n",
       "      <td>0.0</td>\n",
       "      <td>0.051129</td>\n",
       "      <td>0.0</td>\n",
       "      <td>0.000000</td>\n",
       "      <td>0.000000</td>\n",
       "      <td>0.0</td>\n",
       "      <td>0.0</td>\n",
       "      <td>0.0</td>\n",
       "      <td>0.0</td>\n",
       "      <td>0.0</td>\n",
       "      <td>0.0</td>\n",
       "      <td>0.0</td>\n",
       "      <td>0.0</td>\n",
       "      <td>0.000000</td>\n",
       "      <td>0.0</td>\n",
       "      <td>0.0</td>\n",
       "      <td>0.0</td>\n",
       "      <td>0.0</td>\n",
       "      <td>0.0</td>\n",
       "      <td>0.0</td>\n",
       "      <td>0.0</td>\n",
       "      <td>...</td>\n",
       "      <td>0.0</td>\n",
       "      <td>0.0</td>\n",
       "      <td>0.0</td>\n",
       "      <td>0.0</td>\n",
       "      <td>0.0</td>\n",
       "      <td>0.0</td>\n",
       "      <td>0.0</td>\n",
       "      <td>0.0</td>\n",
       "      <td>0.022159</td>\n",
       "      <td>0.0</td>\n",
       "      <td>0.0</td>\n",
       "      <td>0.0</td>\n",
       "      <td>0.0</td>\n",
       "      <td>0.0</td>\n",
       "      <td>0.0</td>\n",
       "      <td>0.0</td>\n",
       "      <td>0.0</td>\n",
       "      <td>0.000000</td>\n",
       "      <td>0.0</td>\n",
       "      <td>0.0</td>\n",
       "      <td>0.0</td>\n",
       "      <td>0.0</td>\n",
       "      <td>0.0</td>\n",
       "      <td>0.0</td>\n",
       "      <td>0.0</td>\n",
       "      <td>0.0</td>\n",
       "      <td>0.0</td>\n",
       "      <td>0.0</td>\n",
       "      <td>0.0</td>\n",
       "      <td>0.0</td>\n",
       "      <td>0.05174</td>\n",
       "      <td>0.0</td>\n",
       "      <td>0.0</td>\n",
       "      <td>0.0</td>\n",
       "      <td>0.0</td>\n",
       "      <td>0.0</td>\n",
       "      <td>0.0</td>\n",
       "      <td>0.0</td>\n",
       "      <td>0.0</td>\n",
       "      <td>0.0</td>\n",
       "    </tr>\n",
       "    <tr>\n",
       "      <th>3</th>\n",
       "      <td>0.000000</td>\n",
       "      <td>0.0</td>\n",
       "      <td>0.0</td>\n",
       "      <td>0.0</td>\n",
       "      <td>0.0</td>\n",
       "      <td>0.0</td>\n",
       "      <td>0.0</td>\n",
       "      <td>0.000000</td>\n",
       "      <td>0.0</td>\n",
       "      <td>0.0</td>\n",
       "      <td>0.0</td>\n",
       "      <td>0.000000</td>\n",
       "      <td>0.000000</td>\n",
       "      <td>0.0</td>\n",
       "      <td>0.0</td>\n",
       "      <td>0.000000</td>\n",
       "      <td>0.000000</td>\n",
       "      <td>0.0</td>\n",
       "      <td>0.0</td>\n",
       "      <td>0.0</td>\n",
       "      <td>0.000000</td>\n",
       "      <td>0.0</td>\n",
       "      <td>0.000000</td>\n",
       "      <td>0.000000</td>\n",
       "      <td>0.0</td>\n",
       "      <td>0.0</td>\n",
       "      <td>0.0</td>\n",
       "      <td>0.0</td>\n",
       "      <td>0.0</td>\n",
       "      <td>0.0</td>\n",
       "      <td>0.0</td>\n",
       "      <td>0.0</td>\n",
       "      <td>0.000000</td>\n",
       "      <td>0.0</td>\n",
       "      <td>0.0</td>\n",
       "      <td>0.0</td>\n",
       "      <td>0.0</td>\n",
       "      <td>0.0</td>\n",
       "      <td>0.0</td>\n",
       "      <td>0.0</td>\n",
       "      <td>...</td>\n",
       "      <td>0.0</td>\n",
       "      <td>0.0</td>\n",
       "      <td>0.0</td>\n",
       "      <td>0.0</td>\n",
       "      <td>0.0</td>\n",
       "      <td>0.0</td>\n",
       "      <td>0.0</td>\n",
       "      <td>0.0</td>\n",
       "      <td>0.000000</td>\n",
       "      <td>0.0</td>\n",
       "      <td>0.0</td>\n",
       "      <td>0.0</td>\n",
       "      <td>0.0</td>\n",
       "      <td>0.0</td>\n",
       "      <td>0.0</td>\n",
       "      <td>0.0</td>\n",
       "      <td>0.0</td>\n",
       "      <td>0.000000</td>\n",
       "      <td>0.0</td>\n",
       "      <td>0.0</td>\n",
       "      <td>0.0</td>\n",
       "      <td>0.0</td>\n",
       "      <td>0.0</td>\n",
       "      <td>0.0</td>\n",
       "      <td>0.0</td>\n",
       "      <td>0.0</td>\n",
       "      <td>0.0</td>\n",
       "      <td>0.0</td>\n",
       "      <td>0.0</td>\n",
       "      <td>0.0</td>\n",
       "      <td>0.00000</td>\n",
       "      <td>0.0</td>\n",
       "      <td>0.0</td>\n",
       "      <td>0.0</td>\n",
       "      <td>0.0</td>\n",
       "      <td>0.0</td>\n",
       "      <td>0.0</td>\n",
       "      <td>0.0</td>\n",
       "      <td>0.0</td>\n",
       "      <td>0.0</td>\n",
       "    </tr>\n",
       "    <tr>\n",
       "      <th>4</th>\n",
       "      <td>0.000000</td>\n",
       "      <td>0.0</td>\n",
       "      <td>0.0</td>\n",
       "      <td>0.0</td>\n",
       "      <td>0.0</td>\n",
       "      <td>0.0</td>\n",
       "      <td>0.0</td>\n",
       "      <td>0.000000</td>\n",
       "      <td>0.0</td>\n",
       "      <td>0.0</td>\n",
       "      <td>0.0</td>\n",
       "      <td>0.000000</td>\n",
       "      <td>0.000000</td>\n",
       "      <td>0.0</td>\n",
       "      <td>0.0</td>\n",
       "      <td>0.000000</td>\n",
       "      <td>0.000000</td>\n",
       "      <td>0.0</td>\n",
       "      <td>0.0</td>\n",
       "      <td>0.0</td>\n",
       "      <td>0.000000</td>\n",
       "      <td>0.0</td>\n",
       "      <td>0.000000</td>\n",
       "      <td>0.000000</td>\n",
       "      <td>0.0</td>\n",
       "      <td>0.0</td>\n",
       "      <td>0.0</td>\n",
       "      <td>0.0</td>\n",
       "      <td>0.0</td>\n",
       "      <td>0.0</td>\n",
       "      <td>0.0</td>\n",
       "      <td>0.0</td>\n",
       "      <td>0.000000</td>\n",
       "      <td>0.0</td>\n",
       "      <td>0.0</td>\n",
       "      <td>0.0</td>\n",
       "      <td>0.0</td>\n",
       "      <td>0.0</td>\n",
       "      <td>0.0</td>\n",
       "      <td>0.0</td>\n",
       "      <td>...</td>\n",
       "      <td>0.0</td>\n",
       "      <td>0.0</td>\n",
       "      <td>0.0</td>\n",
       "      <td>0.0</td>\n",
       "      <td>0.0</td>\n",
       "      <td>0.0</td>\n",
       "      <td>0.0</td>\n",
       "      <td>0.0</td>\n",
       "      <td>0.000000</td>\n",
       "      <td>0.0</td>\n",
       "      <td>0.0</td>\n",
       "      <td>0.0</td>\n",
       "      <td>0.0</td>\n",
       "      <td>0.0</td>\n",
       "      <td>0.0</td>\n",
       "      <td>0.0</td>\n",
       "      <td>0.0</td>\n",
       "      <td>0.000000</td>\n",
       "      <td>0.0</td>\n",
       "      <td>0.0</td>\n",
       "      <td>0.0</td>\n",
       "      <td>0.0</td>\n",
       "      <td>0.0</td>\n",
       "      <td>0.0</td>\n",
       "      <td>0.0</td>\n",
       "      <td>0.0</td>\n",
       "      <td>0.0</td>\n",
       "      <td>0.0</td>\n",
       "      <td>0.0</td>\n",
       "      <td>0.0</td>\n",
       "      <td>0.00000</td>\n",
       "      <td>0.0</td>\n",
       "      <td>0.0</td>\n",
       "      <td>0.0</td>\n",
       "      <td>0.0</td>\n",
       "      <td>0.0</td>\n",
       "      <td>0.0</td>\n",
       "      <td>0.0</td>\n",
       "      <td>0.0</td>\n",
       "      <td>0.0</td>\n",
       "    </tr>\n",
       "  </tbody>\n",
       "</table>\n",
       "<p>5 rows × 5000 columns</p>\n",
       "</div>\n",
       "      <button class=\"colab-df-convert\" onclick=\"convertToInteractive('df-83e782ee-4f18-4ce6-bd4a-fd317bcf2770')\"\n",
       "              title=\"Convert this dataframe to an interactive table.\"\n",
       "              style=\"display:none;\">\n",
       "        \n",
       "  <svg xmlns=\"http://www.w3.org/2000/svg\" height=\"24px\"viewBox=\"0 0 24 24\"\n",
       "       width=\"24px\">\n",
       "    <path d=\"M0 0h24v24H0V0z\" fill=\"none\"/>\n",
       "    <path d=\"M18.56 5.44l.94 2.06.94-2.06 2.06-.94-2.06-.94-.94-2.06-.94 2.06-2.06.94zm-11 1L8.5 8.5l.94-2.06 2.06-.94-2.06-.94L8.5 2.5l-.94 2.06-2.06.94zm10 10l.94 2.06.94-2.06 2.06-.94-2.06-.94-.94-2.06-.94 2.06-2.06.94z\"/><path d=\"M17.41 7.96l-1.37-1.37c-.4-.4-.92-.59-1.43-.59-.52 0-1.04.2-1.43.59L10.3 9.45l-7.72 7.72c-.78.78-.78 2.05 0 2.83L4 21.41c.39.39.9.59 1.41.59.51 0 1.02-.2 1.41-.59l7.78-7.78 2.81-2.81c.8-.78.8-2.07 0-2.86zM5.41 20L4 18.59l7.72-7.72 1.47 1.35L5.41 20z\"/>\n",
       "  </svg>\n",
       "      </button>\n",
       "      \n",
       "  <style>\n",
       "    .colab-df-container {\n",
       "      display:flex;\n",
       "      flex-wrap:wrap;\n",
       "      gap: 12px;\n",
       "    }\n",
       "\n",
       "    .colab-df-convert {\n",
       "      background-color: #E8F0FE;\n",
       "      border: none;\n",
       "      border-radius: 50%;\n",
       "      cursor: pointer;\n",
       "      display: none;\n",
       "      fill: #1967D2;\n",
       "      height: 32px;\n",
       "      padding: 0 0 0 0;\n",
       "      width: 32px;\n",
       "    }\n",
       "\n",
       "    .colab-df-convert:hover {\n",
       "      background-color: #E2EBFA;\n",
       "      box-shadow: 0px 1px 2px rgba(60, 64, 67, 0.3), 0px 1px 3px 1px rgba(60, 64, 67, 0.15);\n",
       "      fill: #174EA6;\n",
       "    }\n",
       "\n",
       "    [theme=dark] .colab-df-convert {\n",
       "      background-color: #3B4455;\n",
       "      fill: #D2E3FC;\n",
       "    }\n",
       "\n",
       "    [theme=dark] .colab-df-convert:hover {\n",
       "      background-color: #434B5C;\n",
       "      box-shadow: 0px 1px 3px 1px rgba(0, 0, 0, 0.15);\n",
       "      filter: drop-shadow(0px 1px 2px rgba(0, 0, 0, 0.3));\n",
       "      fill: #FFFFFF;\n",
       "    }\n",
       "  </style>\n",
       "\n",
       "      <script>\n",
       "        const buttonEl =\n",
       "          document.querySelector('#df-83e782ee-4f18-4ce6-bd4a-fd317bcf2770 button.colab-df-convert');\n",
       "        buttonEl.style.display =\n",
       "          google.colab.kernel.accessAllowed ? 'block' : 'none';\n",
       "\n",
       "        async function convertToInteractive(key) {\n",
       "          const element = document.querySelector('#df-83e782ee-4f18-4ce6-bd4a-fd317bcf2770');\n",
       "          const dataTable =\n",
       "            await google.colab.kernel.invokeFunction('convertToInteractive',\n",
       "                                                     [key], {});\n",
       "          if (!dataTable) return;\n",
       "\n",
       "          const docLinkHtml = 'Like what you see? Visit the ' +\n",
       "            '<a target=\"_blank\" href=https://colab.research.google.com/notebooks/data_table.ipynb>data table notebook</a>'\n",
       "            + ' to learn more about interactive tables.';\n",
       "          element.innerHTML = '';\n",
       "          dataTable['output_type'] = 'display_data';\n",
       "          await google.colab.output.renderOutput(dataTable, element);\n",
       "          const docLink = document.createElement('div');\n",
       "          docLink.innerHTML = docLinkHtml;\n",
       "          element.appendChild(docLink);\n",
       "        }\n",
       "      </script>\n",
       "    </div>\n",
       "  </div>\n",
       "  "
      ],
      "text/plain": [
       "       0     1     2     3     4     5     ...  4994  4995  4996  4997  4998  4999\n",
       "0  0.000000   0.0   0.0   0.0   0.0   0.0  ...   0.0   0.0   0.0   0.0   0.0   0.0\n",
       "1  0.034921   0.0   0.0   0.0   0.0   0.0  ...   0.0   0.0   0.0   0.0   0.0   0.0\n",
       "2  0.000000   0.0   0.0   0.0   0.0   0.0  ...   0.0   0.0   0.0   0.0   0.0   0.0\n",
       "3  0.000000   0.0   0.0   0.0   0.0   0.0  ...   0.0   0.0   0.0   0.0   0.0   0.0\n",
       "4  0.000000   0.0   0.0   0.0   0.0   0.0  ...   0.0   0.0   0.0   0.0   0.0   0.0\n",
       "\n",
       "[5 rows x 5000 columns]"
      ]
     },
     "execution_count": 8,
     "metadata": {},
     "output_type": "execute_result"
    }
   ],
   "source": [
    "q_tfidf_train.head()"
   ]
  },
  {
   "cell_type": "code",
   "execution_count": null,
   "metadata": {
    "colab": {
     "base_uri": "https://localhost:8080/"
    },
    "id": "DYN-fc_zGMqO",
    "outputId": "3b5ec0bf-feac-4ceb-b407-ee77f2f4fa0b"
   },
   "outputs": [
    {
     "name": "stdout",
     "output_type": "stream",
     "text": [
      "<class 'pandas.core.frame.DataFrame'>\n",
      "RangeIndex: 31428 entries, 0 to 31427\n",
      "Columns: 5000 entries, 0 to 4999\n",
      "dtypes: Sparse[float64, 0](5000)\n",
      "memory usage: 54.4 MB\n"
     ]
    }
   ],
   "source": [
    "q_tfidf_train.info()"
   ]
  },
  {
   "cell_type": "code",
   "execution_count": null,
   "metadata": {
    "colab": {
     "base_uri": "https://localhost:8080/"
    },
    "id": "Y6k-Jnk0GMtG",
    "outputId": "8ac33f89-e85d-40af-aa51-06a2d2a9835d"
   },
   "outputs": [
    {
     "name": "stdout",
     "output_type": "stream",
     "text": [
      "Number of data points in train data : (31428, 5000)\n",
      "Train labels : (31428,)\n",
      "Number of data points in test data : (13470, 5000)\n",
      "Test labels : (13470,)\n"
     ]
    }
   ],
   "source": [
    "print(\"Number of data points in train data :\",q_tfidf_train.shape)\n",
    "print(\"Train labels :\",train_labels.shape)\n",
    "\n",
    "print(\"Number of data points in test data :\",q_tfidf_test.shape)\n",
    "print(\"Test labels :\",test_labels.shape)"
   ]
  },
  {
   "cell_type": "markdown",
   "metadata": {
    "id": "4ctISKg4QwiT"
   },
   "source": [
    "### Creating data matrices"
   ]
  },
  {
   "cell_type": "code",
   "execution_count": null,
   "metadata": {
    "id": "-oaBNeBVNqTe"
   },
   "outputs": [],
   "source": [
    "# First, let's standardize our features.\n",
    "\n",
    "# Initialize StandardScaler\n",
    "scaler = StandardScaler(with_mean=False)\n",
    "\n",
    "# Train data\n",
    "model_train_std = scaler.fit_transform(q_tfidf_train)\n",
    "\n",
    "# Test data\n",
    "model_test = scaler.transform(q_tfidf_test)"
   ]
  },
  {
   "cell_type": "code",
   "execution_count": null,
   "metadata": {
    "colab": {
     "base_uri": "https://localhost:8080/"
    },
    "id": "5Hd6zBkvRCkI",
    "outputId": "67a2fc3d-03c1-4a6c-bab6-39b9890208f7"
   },
   "outputs": [
    {
     "name": "stdout",
     "output_type": "stream",
     "text": [
      "Train data before upsampling :  [(0, 16436), (1, 14992)]\n",
      "Resampled dataset shape Counter({0: 16436, 1: 16436})\n"
     ]
    }
   ],
   "source": [
    "# Balancing the train data\n",
    "print(\"Train data before upsampling : \", sorted(Counter(train_labels).items()))\n",
    "\n",
    "sm = BorderlineSMOTE(random_state=2)\n",
    "model_train, train_labels = sm.fit_resample(model_train_std, train_labels.ravel())\n",
    "print('Resampled dataset shape %s' % Counter(train_labels))"
   ]
  },
  {
   "cell_type": "markdown",
   "metadata": {
    "id": "lv484kTnfSEW"
   },
   "source": [
    "### Visualization using t-SNE:"
   ]
  },
  {
   "cell_type": "code",
   "execution_count": null,
   "metadata": {
    "colab": {
     "base_uri": "https://localhost:8080/",
     "height": 443
    },
    "id": "25iYJwPSfRHY",
    "outputId": "fc4d4d18-a2d0-43e7-d85a-ad84cce24d22"
   },
   "outputs": [
    {
     "data": {
      "image/png": "[encoded data removed]",
      "text/plain": [
       "<Figure size 537.45x432 with 1 Axes>"
      ]
     },
     "metadata": {},
     "output_type": "display_data"
    }
   ],
   "source": [
    "# TSNE\n",
    "\n",
    "model = TSNE(n_components=2, random_state=0, perplexity=30,  n_iter=1000)\n",
    "tsne_data = model.fit_transform(model_train)\n",
    "\n",
    "# creating a new data frame which help us in ploting the result data\n",
    "tsne_data = np.vstack((tsne_data.T, train_labels)).T\n",
    "tsne_df = pd.DataFrame(data=tsne_data, columns=(\"1st_principal\", \"2nd_principal\", \"Score\"))\n",
    "new_labels = ['Fake news', 'True news']\n",
    "\n",
    "# Ploting the result of tsne\n",
    "g= sns.FacetGrid(tsne_df, hue=\"Score\", size=6, legend_out=True).map(plt.scatter, \"1st_principal\", \"2nd_principal\")  \\\n",
    "                                          .add_legend(labels = new_labels, loc=5, fontsize=12)\n",
    "\n",
    "g.fig.suptitle('Visualization using t-SNE', fontsize=16)\n",
    "g.ax.grid(False)\n",
    "plt.show()"
   ]
  },
  {
   "cell_type": "code",
   "execution_count": null,
   "metadata": {
    "colab": {
     "base_uri": "https://localhost:8080/",
     "height": 443
    },
    "id": "U9MoUq4S5b-3",
    "outputId": "0446cef4-f1dc-476f-d56e-9620326185a4"
   },
   "outputs": [
    {
     "data": {
      "image/png": "[encoded data removed]",
      "text/plain": [
       "<Figure size 537.45x432 with 1 Axes>"
      ]
     },
     "metadata": {},
     "output_type": "display_data"
    }
   ],
   "source": [
    "# TSNE\n",
    "\n",
    "model = TSNE(n_components=2, random_state=0, perplexity=50,  n_iter=1000)\n",
    "tsne_data = model.fit_transform(model_train)\n",
    "\n",
    "# creating a new data frame which help us in ploting the result data\n",
    "tsne_data = np.vstack((tsne_data.T, train_labels)).T\n",
    "tsne_df = pd.DataFrame(data=tsne_data, columns=(\"1st_principal\", \"2nd_principal\", \"Score\"))\n",
    "new_labels = ['Fake news', 'True news']\n",
    "\n",
    "# Ploting the result of tsne\n",
    "g= sns.FacetGrid(tsne_df, hue=\"Score\", size=6, legend_out=True).map(plt.scatter, \"1st_principal\", \"2nd_principal\")  \\\n",
    "                                          .add_legend(labels = new_labels, loc=5, fontsize=12)\n",
    "\n",
    "g.fig.suptitle('Visualization using t-SNE', fontsize=16)\n",
    "g.ax.grid(False)\n",
    "plt.show()"
   ]
  },
  {
   "cell_type": "markdown",
   "metadata": {
    "id": "j7IBRYHoKB8v"
   },
   "source": [
    "### 4.4 Building a random model (Finding worst-case log-loss)"
   ]
  },
  {
   "cell_type": "markdown",
   "metadata": {
    "id": "GrBpmmITQXEd"
   },
   "source": [
    "Defining function to print confusion matrices"
   ]
  },
  {
   "cell_type": "code",
   "execution_count": null,
   "metadata": {
    "id": "utfrqZaqNqQz"
   },
   "outputs": [],
   "source": [
    "def plot_confusion_matrices(true, pred):\n",
    "  # Normal confusion matrix\n",
    "  conf = confusion_matrix(true, pred)\n",
    "  \n",
    "  # Precision matrix\n",
    "  # Precision: Out of all the points predicted of class 'A', how many are actually class 'A'\n",
    "  # A column in the confusion matrix represents the data points predicted as the same class\n",
    "  # So we divide all data points by the sum of points in their respective columns\n",
    "  precision = (conf.T / conf.sum(axis=1)).T\n",
    "\n",
    "  # Recall matrix\n",
    "  # Recall: Out of all the points which are of class 'A', how many were predicted to be of class 'A'\n",
    "  # A row in the confusion matrix represents the data points of the same class\n",
    "  # So we divide all data points by the sum of points in their respective rows\n",
    "  recall = (conf / conf.sum(axis=0))\n",
    "\n",
    "  # Plotting the matrices\n",
    "  plt.figure(figsize=(24,6))\n",
    "\n",
    "  # Set axes labels\n",
    "  labels = ['0', '1']\n",
    "\n",
    "  # Set colourmap\n",
    "  cmap = sns.light_palette('purple')\n",
    "\n",
    "  # Plot normal confusion matrix\n",
    "  plt.subplot(1, 3, 1)\n",
    "  sns.heatmap(conf, cmap=cmap, annot=True, fmt='d', xticklabels=labels, yticklabels=labels)\n",
    "  plt.xlabel('Predicted')\n",
    "  plt.ylabel('Actual')\n",
    "  plt.title('Confusion Matrix')\n",
    "\n",
    "  # Plot precision confusion matrix\n",
    "  plt.subplot(1, 3, 2)\n",
    "  sns.heatmap(precision, cmap=cmap, annot=True, fmt='.3f', xticklabels=labels, yticklabels=labels)\n",
    "  plt.xlabel('Predicted')\n",
    "  plt.ylabel('Actual')\n",
    "  plt.title('Precision Matrix')\n",
    "\n",
    "  # Plot recall confusion matrix\n",
    "  plt.subplot(1, 3, 3)\n",
    "  sns.heatmap(recall, cmap=cmap, annot=True, fmt='.3f', xticklabels=labels, yticklabels=labels)\n",
    "  plt.xlabel('Predicted')\n",
    "  plt.ylabel('Actual')\n",
    "  plt.title('Recall Matrix')\n",
    "\n",
    "  plt.show()"
   ]
  },
  {
   "cell_type": "markdown",
   "metadata": {
    "id": "3meWPofMQteJ"
   },
   "source": [
    "## Model 1"
   ]
  },
  {
   "cell_type": "markdown",
   "metadata": {
    "id": "LvyXM-9cRPET"
   },
   "source": [
    "### Random model\n",
    "Let's build a random model and check our log-loss and confusion matrices. This can be a baseline for our other models."
   ]
  },
  {
   "cell_type": "code",
   "execution_count": null,
   "metadata": {
    "colab": {
     "base_uri": "https://localhost:8080/",
     "height": 381
    },
    "id": "B7DnN69FNqWk",
    "outputId": "aacd40a2-5fd2-4ceb-ad49-be209ef824a6"
   },
   "outputs": [
    {
     "name": "stdout",
     "output_type": "stream",
     "text": [
      "Log-loss for a random model is: 0.89069\n",
      "\n"
     ]
    },
    {
     "data": {
      "image/png": "[encoded data removed]",
      "text/plain": [
       "<Figure size 1728x432 with 6 Axes>"
      ]
     },
     "metadata": {},
     "output_type": "display_data"
    }
   ],
   "source": [
    "# Initialzing data structure to hold predicted probabilities\n",
    "predicted = np.zeros((len(test_labels), 2))\n",
    "\n",
    "for i in range(len(test_labels)):\n",
    "  # Getting 2 random values\n",
    "  prob = np.random.rand(1, 2)\n",
    "\n",
    "  # Making so that both the random values sum to 1\n",
    "  predicted[i] = (prob / sum(sum(prob)))[0]\n",
    "\n",
    "# Log-loss on the positive class label\n",
    "random_logloss = log_loss(test_labels, predicted[:, 1])\n",
    "print('Log-loss for a random model is: {:.5f}\\n'.format(random_logloss))\n",
    "\n",
    "# Now we assign class labels 0 or 1 depending on which has higher probabilities\n",
    "# This way we can create confusion matrices\n",
    "predicted = np.argmax(predicted, axis=1)\n",
    "plot_confusion_matrices(test_labels, predicted)"
   ]
  },
  {
   "cell_type": "markdown",
   "metadata": {
    "id": "tOCZ5boMt1LS"
   },
   "source": [
    "### Logistic Regression with hyperparameter tuning"
   ]
  },
  {
   "cell_type": "code",
   "execution_count": null,
   "metadata": {
    "colab": {
     "base_uri": "https://localhost:8080/",
     "height": 1000
    },
    "id": "boSJXKQWNqet",
    "outputId": "2ca60eef-e1cc-48f9-92a7-576fd137a71a"
   },
   "outputs": [
    {
     "name": "stdout",
     "output_type": "stream",
     "text": [
      "L1 Regularization\n",
      "Regularization: L1\talpha = 1e-05\tloss: 0.6931471805599453\n",
      "Regularization: L1\talpha = 0.0001\tloss: 0.055248058434921594\n",
      "Regularization: L1\talpha = 0.001\tloss: 0.06807965052513151\n",
      "Regularization: L1\talpha = 0.01\tloss: 0.14447594490359128\n",
      "Regularization: L1\talpha = 0.1\tloss: 0.6061481301366349\n",
      "Regularization: L1\talpha = 1\tloss: 0.6931471805599453\n",
      "Regularization: L1\talpha = 10\tloss: 0.6931471805599454\n",
      "\n",
      "L2 Regularization\n",
      "Regularization: L2\talpha = 1e-05\tloss: 0.04036282278401565\n",
      "Regularization: L2\talpha = 0.0001\tloss: 0.03919415983418278\n",
      "Regularization: L2\talpha = 0.001\tloss: 0.03391226543085906\n",
      "Regularization: L2\talpha = 0.01\tloss: 0.02836386463072672\n",
      "Regularization: L2\talpha = 0.1\tloss: 0.03799659432897051\n",
      "Regularization: L2\talpha = 1\tloss: 0.06792109550282734\n",
      "Regularization: L2\talpha = 10\tloss: 0.10971968955723198\n",
      "\n",
      "ElasticNet Regularization\n",
      "Regularization: ElasticNet\talpha = 1e-05\tloss: 0.040158226566289305\n",
      "Regularization: ElasticNet\talpha = 0.0001\tloss: 0.03701759970207489\n",
      "Regularization: ElasticNet\talpha = 0.001\tloss: 0.024696984773295415\n",
      "Regularization: ElasticNet\talpha = 0.01\tloss: 0.02507816963635607\n",
      "Regularization: ElasticNet\talpha = 0.1\tloss: 0.04678242369767206\n",
      "Regularization: ElasticNet\talpha = 1\tloss: 0.11132122083705004\n",
      "Regularization: ElasticNet\talpha = 10\tloss: 0.6931471805599454\n",
      "\n",
      "\n"
     ]
    },
    {
     "data": {
      "image/png": "[encoded data removed]",
      "text/plain": [
       "<Figure size 1080x576 with 1 Axes>"
      ]
     },
     "metadata": {},
     "output_type": "display_data"
    }
   ],
   "source": [
    "# hyperparameter: alpha to iterate over\n",
    "# list for both L1, L2 and elasticnet regularization\n",
    "# alpha ranges from 0.00001 to 10 (7 values)\n",
    "alpha = [10**x for x in range(-5, 2)]\n",
    "\n",
    "# Create lists to hold values for log-loss for L1, L2 and ElasticNet\n",
    "l1_logloss = []\n",
    "l2_logloss = []\n",
    "elasticnet_logloss = []\n",
    "\n",
    "# We will also perform model calibration for better results\n",
    "# L1 regularization\n",
    "# Iterate over alphas\n",
    "print('L1 Regularization')\n",
    "for a in alpha:\n",
    "  # Initialize SGDClassifier\n",
    "  sgd_clf = SGDClassifier(loss='log', alpha=a, penalty='l1', n_jobs=-1, random_state=42)\n",
    "  \n",
    "  # Fit/train model\n",
    "  sgd_clf.fit(model_train, train_labels)\n",
    "\n",
    "  # Initialize calibration model\n",
    "  cal_clf = CalibratedClassifierCV(sgd_clf)\n",
    "  \n",
    "  # Fit calibration model\n",
    "  cal_clf.fit(model_train, train_labels)\n",
    "\n",
    "  # Predict on test data\n",
    "  pred_prob = cal_clf.predict_proba(model_test)\n",
    "\n",
    "  # Get log-loss on predictions\n",
    "  loss = (log_loss(test_labels, pred_prob))\n",
    "  l1_logloss.append(loss)\n",
    "\n",
    "  print('Regularization: {}\\talpha = {}\\tloss: {}'.format('L1', a, loss))\n",
    "\n",
    "\n",
    "# L2 regularization\n",
    "# Iterate over alphas\n",
    "print('\\nL2 Regularization')\n",
    "for a in alpha:\n",
    "  # Initialize SGDClassifier\n",
    "  sgd_clf = SGDClassifier(loss='log', alpha=a, penalty='l2', n_jobs=-1, random_state=42)\n",
    "  \n",
    "  # Fit/train model\n",
    "  sgd_clf.fit(model_train, train_labels)\n",
    "\n",
    "  # Initialize calibration model\n",
    "  cal_clf = CalibratedClassifierCV(sgd_clf)\n",
    "  \n",
    "  # Fit calibration model\n",
    "  cal_clf.fit(model_train, train_labels)\n",
    "\n",
    "  # Predict on test data\n",
    "  pred_prob = cal_clf.predict_proba(model_test)\n",
    "\n",
    "  # Get log-loss on predictions\n",
    "  loss = (log_loss(test_labels, pred_prob))\n",
    "  l2_logloss.append(loss)\n",
    "\n",
    "  print('Regularization: {}\\talpha = {}\\tloss: {}'.format('L2', a, loss))\n",
    "\n",
    "# elasticnet regularization\n",
    "# Iterate over alphas\n",
    "print('\\nElasticNet Regularization')\n",
    "for a in alpha:\n",
    "  # Initialize SGDClassifier\n",
    "  sgd_clf = SGDClassifier(loss='log', alpha=a, penalty='elasticnet', n_jobs=-1, random_state=42)\n",
    "  \n",
    "  # Fit/train model\n",
    "  sgd_clf.fit(model_train, train_labels)\n",
    "\n",
    "  # Initialize calibration model\n",
    "  cal_clf = CalibratedClassifierCV(sgd_clf)\n",
    "  \n",
    "  # Fit calibration model\n",
    "  cal_clf.fit(model_train, train_labels)\n",
    "\n",
    "  # Predict on test data\n",
    "  pred_prob = cal_clf.predict_proba(model_test)\n",
    "\n",
    "  # Get log-loss on predictions\n",
    "  loss = (log_loss(test_labels, pred_prob))\n",
    "  elasticnet_logloss.append(loss)\n",
    "\n",
    "  print('Regularization: {}\\talpha = {}\\tloss: {}'.format('ElasticNet', a, loss))\n",
    "\n",
    "print('\\n')\n",
    "\n",
    "# Plotting hyperparamter tuning results\n",
    "plt.figure(figsize=(15, 8))\n",
    "\n",
    "# L1 plot\n",
    "sns.lineplot(x=alpha, y=l1_logloss, label='L1')\n",
    "\n",
    "# L2 plot\n",
    "sns.lineplot(x=alpha, y=l2_logloss, label='L2')\n",
    "\n",
    "# ElasticNet plot\n",
    "sns.lineplot(x=alpha, y=elasticnet_logloss, label='ElasticNet')\n",
    "\n",
    "# Setting plot title, axes labels and legend\n",
    "plt.title('LogLoss vs Alpha')\n",
    "plt.xlabel('Alpha')\n",
    "plt.ylabel('Log-loss')\n",
    "plt.legend()\n",
    "\n",
    "plt.show()"
   ]
  },
  {
   "cell_type": "code",
   "execution_count": null,
   "metadata": {
    "colab": {
     "base_uri": "https://localhost:8080/",
     "height": 418
    },
    "id": "JWUil_jdttaM",
    "outputId": "92cd1e8b-4c2f-4e22-dba9-a9a951967952"
   },
   "outputs": [
    {
     "name": "stdout",
     "output_type": "stream",
     "text": [
      "Log loss for best alpha on train data: 0.006997295573456191\n",
      "Log loss for best alpha on test data: 0.02836386463072672\n",
      "\n",
      "\n"
     ]
    },
    {
     "data": {
      "image/png": "[encoded data removed]",
      "text/plain": [
       "<Figure size 1728x432 with 6 Axes>"
      ]
     },
     "metadata": {
      "needs_background": "light"
     },
     "output_type": "display_data"
    }
   ],
   "source": [
    "# Finding best alpha\n",
    "best_alpha = alpha[np.argmin(l2_logloss)]\n",
    "\n",
    "# train SGDClassifier with best alpha regularization\n",
    "sgd_clf_LR = SGDClassifier(loss='log', alpha=best_alpha, penalty='l2', n_jobs=-1, random_state=42)\n",
    "\n",
    "# Train model\n",
    "sgd_clf_LR.fit(model_train, train_labels)\n",
    "\n",
    "# Initialize calibration model\n",
    "cal_clf_LR = CalibratedClassifierCV(sgd_clf_LR)\n",
    "\n",
    "# Fit calibration model\n",
    "cal_clf_LR.fit(model_train, train_labels)\n",
    "\n",
    "# Predict\n",
    "predict_train = cal_clf_LR.predict_proba(model_train)\n",
    "predict_test = cal_clf_LR.predict_proba(model_test)\n",
    "\n",
    "print('Log loss for best alpha on train data: {}'.format(log_loss(train_labels, predict_train)))\n",
    "print('Log loss for best alpha on test data: {}'.format(log_loss(test_labels, predict_test)))\n",
    "\n",
    "print('\\n')\n",
    "\n",
    "# Convert probabilities to 0 or 1 and plot test confusion matrices\n",
    "predicted = np.argmax(predict_test, axis=1)\n",
    "plot_confusion_matrices(test_labels, predicted)"
   ]
  },
  {
   "cell_type": "code",
   "execution_count": null,
   "metadata": {
    "id": "4GvDC-dZJGU_"
   },
   "outputs": [],
   "source": [
    "# Dumping the model into a pickel file\n",
    "\n",
    "pickle.dump(cal_clf_LR, open('/content/drive/My Drive/Fake News Detection/LR_model.pkl', 'wb'))"
   ]
  },
  {
   "cell_type": "code",
   "execution_count": null,
   "metadata": {
    "colab": {
     "base_uri": "https://localhost:8080/"
    },
    "id": "DmxLAi9k1lon",
    "outputId": "505a588e-f2ce-4855-980c-62fb67e5ed22"
   },
   "outputs": [
    {
     "name": "stdout",
     "output_type": "stream",
     "text": [
      "Train Accuracy: 0.9997262107568752\n",
      "Test Accuracy: 0.9919821826280624\n"
     ]
    }
   ],
   "source": [
    "# Convert probabilities to 0 or 1 and calculate accuracy\n",
    "predicted_train = np.argmax(predict_train, axis=1)\n",
    "predicted_test = np.argmax(predict_test, axis=1)\n",
    "\n",
    "# Accuracy\n",
    "train_score = accuracy_score(train_labels, predicted_train)\n",
    "test_score = accuracy_score(test_labels, predicted_test)\n",
    "print(\"Train Accuracy:\", train_score)\n",
    "print(\"Test Accuracy:\", test_score)"
   ]
  },
  {
   "cell_type": "code",
   "execution_count": null,
   "metadata": {},
   "outputs": [],
   "source": []
  },
  {
   "cell_type": "code",
   "execution_count": null,
   "metadata": {},
   "outputs": [],
   "source": []
  },
  {
   "cell_type": "code",
   "execution_count": null,
   "metadata": {},
   "outputs": [],
   "source": []
  },
  {
   "cell_type": "code",
   "execution_count": null,
   "metadata": {},
   "outputs": [],
   "source": []
  },
  {
   "cell_type": "markdown",
   "metadata": {
    "id": "4lxBukOC57js"
   },
   "source": [
    "### Linear SVM with Hyperparameter tuning"
   ]
  },
  {
   "cell_type": "code",
   "execution_count": null,
   "metadata": {
    "colab": {
     "base_uri": "https://localhost:8080/",
     "height": 1000
    },
    "id": "0Ko5D-ROttdF",
    "outputId": "529d009c-c699-46f6-a071-a0372a362fc7"
   },
   "outputs": [
    {
     "name": "stdout",
     "output_type": "stream",
     "text": [
      "L1 Regularization\n",
      "Regularization: L1\talpha = 1e-05\tloss: 0.6931471805599453\n",
      "Regularization: L1\talpha = 0.0001\tloss: 0.05343073451873225\n",
      "Regularization: L1\talpha = 0.001\tloss: 0.06515688181832942\n",
      "Regularization: L1\talpha = 0.01\tloss: 0.14087867849888527\n",
      "Regularization: L1\talpha = 0.1\tloss: 0.4840337021753924\n",
      "Regularization: L1\talpha = 1\tloss: 0.6901181469842532\n",
      "Regularization: L1\talpha = 10\tloss: 0.6931471805599454\n",
      "\n",
      "L2 Regularization\n",
      "Regularization: L2\talpha = 1e-05\tloss: 0.0394157047116019\n",
      "Regularization: L2\talpha = 0.0001\tloss: 0.039092865935201754\n",
      "Regularization: L2\talpha = 0.001\tloss: 0.03698373865563064\n",
      "Regularization: L2\talpha = 0.01\tloss: 0.030442814917492355\n",
      "Regularization: L2\talpha = 0.1\tloss: 0.028281181506552434\n",
      "Regularization: L2\talpha = 1\tloss: 0.03920786260287278\n",
      "Regularization: L2\talpha = 10\tloss: 0.08220561425598422\n",
      "\n",
      "ElasticNet Regularization\n",
      "Regularization: ElasticNet\talpha = 1e-05\tloss: 0.03994104563248582\n",
      "Regularization: ElasticNet\talpha = 0.0001\tloss: 0.03777400938971791\n",
      "Regularization: ElasticNet\talpha = 0.001\tloss: 0.02639201639337591\n",
      "Regularization: ElasticNet\talpha = 0.01\tloss: 0.021573154122512962\n",
      "Regularization: ElasticNet\talpha = 0.1\tloss: 0.03270832884313868\n",
      "Regularization: ElasticNet\talpha = 1\tloss: 0.09973016475660029\n",
      "Regularization: ElasticNet\talpha = 10\tloss: 0.6931471805599454\n",
      "\n",
      "\n"
     ]
    },
    {
     "data": {
      "image/png": "[encoded data removed]",
      "text/plain": [
       "<Figure size 1080x576 with 1 Axes>"
      ]
     },
     "metadata": {
      "needs_background": "light"
     },
     "output_type": "display_data"
    }
   ],
   "source": [
    "# hyperparameter: alpha to iterate over\n",
    "#  list for both L1, L2 and elasticnet regularization\n",
    "# alpha ranges from 0.00001 to 10 (7 values)\n",
    "alpha = [10**x for x in range(-5, 2)]\n",
    "\n",
    "# Create lists to hold values for log-loss for L1, L2 and ElasticNet\n",
    "l1_logloss = []\n",
    "l2_logloss = []\n",
    "elasticnet_logloss = []\n",
    "\n",
    "# We will also perform model calibration for better results\n",
    "# L1 regularization\n",
    "# Iterate over alphas\n",
    "print('L1 Regularization')\n",
    "for a in alpha:\n",
    "  # Initialize SGDClassifier\n",
    "  sgd_clf = SGDClassifier(loss='hinge', alpha=a, penalty='l1', n_jobs=-1, random_state=42)\n",
    "  \n",
    "  # Fit/train model\n",
    "  sgd_clf.fit(model_train, train_labels)\n",
    "\n",
    "  # Initialize calibration model\n",
    "  cal_clf = CalibratedClassifierCV(sgd_clf)\n",
    "  \n",
    "  # Fit calibration model\n",
    "  cal_clf.fit(model_train, train_labels)\n",
    "\n",
    "  # Predict on test data\n",
    "  pred_prob = cal_clf.predict_proba(model_test)\n",
    "\n",
    "  # Get log-loss on predictions\n",
    "  loss = (log_loss(test_labels, pred_prob))\n",
    "  l1_logloss.append(loss)\n",
    "\n",
    "  print('Regularization: {}\\talpha = {}\\tloss: {}'.format('L1', a, loss))\n",
    "\n",
    "\n",
    "# L2 regularization\n",
    "# Iterate over alphas\n",
    "print('\\nL2 Regularization')\n",
    "for a in alpha:\n",
    "  # Initialize SGDClassifier\n",
    "  sgd_clf = SGDClassifier(loss='hinge', alpha=a, penalty='l2', n_jobs=-1, random_state=42)\n",
    "  \n",
    "  # Fit/train model\n",
    "  sgd_clf.fit(model_train, train_labels)\n",
    "\n",
    "  # Initialize calibration model\n",
    "  cal_clf = CalibratedClassifierCV(sgd_clf)\n",
    "  \n",
    "  # Fit calibration model\n",
    "  cal_clf.fit(model_train, train_labels)\n",
    "\n",
    "  # Predict on test data\n",
    "  pred_prob = cal_clf.predict_proba(model_test)\n",
    "\n",
    "  # Get log-loss on predictions\n",
    "  loss = (log_loss(test_labels, pred_prob))\n",
    "  l2_logloss.append(loss)\n",
    "\n",
    "  print('Regularization: {}\\talpha = {}\\tloss: {}'.format('L2', a, loss))\n",
    "\n",
    "# elasticnet regularization\n",
    "# Iterate over alphas\n",
    "print('\\nElasticNet Regularization')\n",
    "for a in alpha:\n",
    "  # Initialize SGDClassifier\n",
    "  sgd_clf = SGDClassifier(loss='hinge', alpha=a, penalty='elasticnet', n_jobs=-1, random_state=42)\n",
    "  \n",
    "  # Fit/train model\n",
    "  sgd_clf.fit(model_train, train_labels)\n",
    "\n",
    "  # Initialize calibration model\n",
    "  cal_clf = CalibratedClassifierCV(sgd_clf)\n",
    "  \n",
    "  # Fit calibration model\n",
    "  cal_clf.fit(model_train, train_labels)\n",
    "\n",
    "  # Predict on test data\n",
    "  pred_prob = cal_clf.predict_proba(model_test)\n",
    "\n",
    "  # Get log-loss on predictions\n",
    "  loss = (log_loss(test_labels, pred_prob))\n",
    "  elasticnet_logloss.append(loss)\n",
    "\n",
    "  print('Regularization: {}\\talpha = {}\\tloss: {}'.format('ElasticNet', a, loss))\n",
    "\n",
    "print('\\n')\n",
    "\n",
    "# Plotting hyperparamter tuning results\n",
    "plt.figure(figsize=(15, 8))\n",
    "\n",
    "# L1 plot\n",
    "sns.lineplot(x=alpha, y=l1_logloss, label='L1')\n",
    "\n",
    "# L2 plot\n",
    "sns.lineplot(x=alpha, y=l2_logloss, label='L2')\n",
    "\n",
    "# ElasticNet plot\n",
    "sns.lineplot(x=alpha, y=elasticnet_logloss, label='ElasticNet')\n",
    "\n",
    "# Setting plot title, axes labels and legend\n",
    "plt.title('LogLoss vs Alpha')\n",
    "plt.xlabel('Alpha')\n",
    "plt.ylabel('Log-loss')\n",
    "plt.legend()\n",
    "\n",
    "plt.show()"
   ]
  },
  {
   "cell_type": "code",
   "execution_count": null,
   "metadata": {
    "colab": {
     "base_uri": "https://localhost:8080/",
     "height": 418
    },
    "id": "r38LiT2Dttfx",
    "outputId": "50ae53a8-390e-44a9-b887-50bf195c9586"
   },
   "outputs": [
    {
     "name": "stdout",
     "output_type": "stream",
     "text": [
      "Log loss for best alpha on train data: 0.015974990482393474\n",
      "Log loss for best alpha on test data: 0.021573154122512962\n",
      "\n",
      "\n"
     ]
    },
    {
     "data": {
      "image/png": "[encoded data removed]",
      "text/plain": [
       "<Figure size 1728x432 with 6 Axes>"
      ]
     },
     "metadata": {
      "needs_background": "light"
     },
     "output_type": "display_data"
    }
   ],
   "source": [
    "# Finding best alpha\n",
    "best_alpha = alpha[np.argmin(elasticnet_logloss)]\n",
    "\n",
    "# Now we train SGDClassifier with best alpha and regularization\n",
    "sgd_clf_SVM = SGDClassifier(loss='hinge', alpha=best_alpha, penalty='ElasticNet', n_jobs=-1, random_state=42)\n",
    "\n",
    "# Train model\n",
    "sgd_clf_SVM.fit(model_train, train_labels)\n",
    "\n",
    "# Initialize calibration model\n",
    "cal_clf_SVM = CalibratedClassifierCV(sgd_clf_SVM)\n",
    "\n",
    "# Fit calibration model\n",
    "cal_clf_SVM.fit(model_train, train_labels)\n",
    "\n",
    "# Predict\n",
    "predict_train = cal_clf_SVM.predict_proba(model_train)\n",
    "predict_test = cal_clf_SVM.predict_proba(model_test)\n",
    "\n",
    "print('Log loss for best alpha on train data: {}'.format(log_loss(train_labels, predict_train)))\n",
    "print('Log loss for best alpha on test data: {}'.format(log_loss(test_labels, predict_test)))\n",
    "\n",
    "print('\\n')\n",
    "\n",
    "# Convert probabilities to 0 or 1 and plot test confusion matrices\n",
    "predicted = np.argmax(predict_test, axis=1)\n",
    "plot_confusion_matrices(test_labels, predicted)"
   ]
  },
  {
   "cell_type": "code",
   "execution_count": null,
   "metadata": {
    "id": "GouFWzkYJJA1"
   },
   "outputs": [],
   "source": [
    "# Dumping the model into a pickel file\n",
    "\n",
    "pickle.dump(cal_clf_SVM, open('/content/drive/My Drive/Fake News Detection/SVM_model.pkl', 'wb'))"
   ]
  },
  {
   "cell_type": "code",
   "execution_count": null,
   "metadata": {
    "colab": {
     "base_uri": "https://localhost:8080/"
    },
    "id": "zdK8t5Gk18Mu",
    "outputId": "c5a97821-2ab9-4388-a874-c63cf25bc16f"
   },
   "outputs": [
    {
     "name": "stdout",
     "output_type": "stream",
     "text": [
      "Accuracy_train = 99.696\n",
      "Accuracy_test = 99.458\n"
     ]
    }
   ],
   "source": [
    "# Evaluate \n",
    "\n",
    "predictions_train = sgd_clf_SVM.predict(model_train)\n",
    "predictions_test = sgd_clf_SVM.predict(model_test)\n",
    "\n",
    "accuracy_train = np.mean((train_labels == predictions_train).astype(np.float)) * 100.\n",
    "accuracy_test = np.mean((test_labels == predictions_test).astype(np.float)) * 100.\n",
    "print(f\"Accuracy_train = {accuracy_train:.3f}\")\n",
    "print(f\"Accuracy_test = {accuracy_test:.3f}\")"
   ]
  },
  {
   "cell_type": "code",
   "execution_count": null,
   "metadata": {},
   "outputs": [],
   "source": []
  },
  {
   "cell_type": "code",
   "execution_count": null,
   "metadata": {},
   "outputs": [],
   "source": []
  },
  {
   "cell_type": "code",
   "execution_count": null,
   "metadata": {},
   "outputs": [],
   "source": []
  },
  {
   "cell_type": "code",
   "execution_count": null,
   "metadata": {},
   "outputs": [],
   "source": []
  },
  {
   "cell_type": "markdown",
   "metadata": {
    "id": "79vJql1b6XO4"
   },
   "source": [
    "### GDBT: XgBoost with Hyperparameter tuning"
   ]
  },
  {
   "cell_type": "code",
   "execution_count": null,
   "metadata": {
    "colab": {
     "base_uri": "https://localhost:8080/"
    },
    "id": "pAge8CHxIKWk",
    "outputId": "b80c443e-b974-4f2a-918f-850e10785186"
   },
   "outputs": [
    {
     "name": "stdout",
     "output_type": "stream",
     "text": [
      "Running at depth: 2, n_estimators: 10\n",
      "Train loss: 0.2097401462081003 \tTest loss: 0.2094571952941069\n",
      "\n",
      "Running at depth: 2, n_estimators: 100\n",
      "Train loss: 0.013913808957027369 \tTest loss: 0.01530376039360325\n",
      "\n",
      "Running at depth: 2, n_estimators: 500\n",
      "Train loss: 0.002263175002634306 \tTest loss: 0.008313662982736463\n",
      "\n",
      "Running at depth: 2, n_estimators: 1000\n",
      "Train loss: 0.0006128528344821754 \tTest loss: 0.007867562817071254\n",
      "\n",
      "Running at depth: 4, n_estimators: 10\n",
      "Train loss: 0.20648148655710094 \tTest loss: 0.2063322912688687\n",
      "\n",
      "Running at depth: 4, n_estimators: 100\n",
      "Train loss: 0.004325400921758933 \tTest loss: 0.009761672288109566\n",
      "\n",
      "Running at depth: 4, n_estimators: 500\n",
      "Train loss: 0.00023354361721229005 \tTest loss: 0.00867467475169819\n",
      "\n",
      "Running at depth: 4, n_estimators: 1000\n",
      "Train loss: 0.00013146174198031465 \tTest loss: 0.009203101072989477\n",
      "\n",
      "Running at depth: 6, n_estimators: 10\n",
      "Train loss: 0.2045261425773726 \tTest loss: 0.20484394849829082\n",
      "\n",
      "Running at depth: 6, n_estimators: 100\n",
      "Train loss: 0.001413324876770296 \tTest loss: 0.008850163188923715\n",
      "\n",
      "Running at depth: 6, n_estimators: 500\n",
      "Train loss: 0.00016671481313316292 \tTest loss: 0.009181875007927215\n",
      "\n",
      "Running at depth: 6, n_estimators: 1000\n",
      "Train loss: 0.00011972369590428397 \tTest loss: 0.009459768632435514\n",
      "\n",
      "Running at depth: 8, n_estimators: 10\n",
      "Train loss: 0.20284460012679278 \tTest loss: 0.2039397888245101\n",
      "\n",
      "Running at depth: 8, n_estimators: 100\n",
      "Train loss: 0.0008676530336854428 \tTest loss: 0.009110203364913697\n",
      "\n",
      "Running at depth: 8, n_estimators: 500\n",
      "Train loss: 0.00015432789966519372 \tTest loss: 0.00962937861948214\n",
      "\n",
      "Running at depth: 8, n_estimators: 1000\n",
      "Train loss: 0.00011511479297059657 \tTest loss: 0.00995769708670472\n",
      "\n"
     ]
    }
   ],
   "source": [
    "# First, we create the list of hyperparameters to iterate over\n",
    "max_depth = [2, 4, 6, 8]\n",
    "n_estimators = [10, 100, 500, 1000]\n",
    "\n",
    "# Initialize list to store log-loss results\n",
    "result_logloss = []\n",
    "\n",
    "# Iterating over max_depth\n",
    "for depth in max_depth:\n",
    "  # Initialize list to store log loss for this iteration\n",
    "  logloss = []\n",
    "  # Iterate over n_estimators\n",
    "  for n in n_estimators:\n",
    "    print('Running at depth: {}, n_estimators: {}'.format(depth, n))\n",
    "\n",
    "    # Initialize model\n",
    "    gbdt_clf = xgb.XGBClassifier(max_depth=depth, n_estimators=n, objective='binary:logistic', n_jobs=-1, random_state=42)\n",
    "\n",
    "    # Fitting on train data\n",
    "    gbdt_clf.fit(model_train, train_labels)\n",
    "\n",
    "    # Predict on test data\n",
    "    pred_prob = gbdt_clf.predict_proba(model_test)\n",
    "\n",
    "    # Get log loss on training data\n",
    "    pred_prob_training = gbdt_clf.predict_proba(model_train)\n",
    "    loss_training = log_loss(train_labels, pred_prob_training)\n",
    "\n",
    "    # Get log-loss on predictions\n",
    "    loss = (log_loss(test_labels, pred_prob))\n",
    "    logloss.append(loss)\n",
    "\n",
    "    # Print training and test loss for this iteration\n",
    "    print('Train loss: {0} \\tTest loss: {1}\\n'.format(loss_training, loss))\n",
    "\n",
    "  result_logloss.append(logloss)"
   ]
  },
  {
   "cell_type": "code",
   "execution_count": null,
   "metadata": {
    "colab": {
     "base_uri": "https://localhost:8080/",
     "height": 501
    },
    "id": "QXtuiyOtIMOn",
    "outputId": "80cecb93-e3a5-4fe8-bab0-14ea728ee709"
   },
   "outputs": [
    {
     "data": {
      "image/png": "[encoded data removed]",
      "text/plain": [
       "<Figure size 1080x576 with 2 Axes>"
      ]
     },
     "metadata": {
      "needs_background": "light"
     },
     "output_type": "display_data"
    }
   ],
   "source": [
    "# Plot log loss heatmap\n",
    "plt.figure(figsize=(15,8))\n",
    "sns.heatmap(result_logloss, annot=True, fmt='.3f', xticklabels=n_estimators, yticklabels=max_depth)\n",
    "plt.title('Depth vs Estimators LogLoss')\n",
    "\n",
    "plt.show()"
   ]
  },
  {
   "cell_type": "markdown",
   "metadata": {
    "id": "1cGlc0qEIPk3"
   },
   "source": [
    "### Training and predicting using best hyperparameter"
   ]
  },
  {
   "cell_type": "code",
   "execution_count": null,
   "metadata": {
    "colab": {
     "base_uri": "https://localhost:8080/",
     "height": 418
    },
    "id": "GJyMXxukNqkq",
    "outputId": "03bf4fd9-1324-454d-fdfa-30495ef83ae3"
   },
   "outputs": [
    {
     "name": "stdout",
     "output_type": "stream",
     "text": [
      "Log loss for best alpha on train data: 0.002263175002634306\n",
      "Log loss for best alpha on test data: 0.008313662982736463\n",
      "\n",
      "\n"
     ]
    },
    {
     "data": {
      "image/png": "[encoded data removed]",
      "text/plain": [
       "<Figure size 1728x432 with 6 Axes>"
      ]
     },
     "metadata": {
      "needs_background": "light"
     },
     "output_type": "display_data"
    }
   ],
   "source": [
    "# Setting best hyperparameters\n",
    "# Not providing the best hyper parameters because it's overfitting\n",
    "\n",
    "n_estimators= 500\n",
    "max_depth= 2 \n",
    "\n",
    "# Initialize model\n",
    "gbdt_clf = xgb.XGBClassifier(max_depth=max_depth, n_estimators=n_estimators, objective='binary:logistic', n_jobs=-1, random_state=42)\n",
    "\n",
    "# Fitting on train data\n",
    "gbdt_clf.fit(model_train, train_labels)\n",
    "\n",
    "# Predict\n",
    "predict_train = gbdt_clf.predict_proba(model_train)\n",
    "predict_test = gbdt_clf.predict_proba(model_test)\n",
    "\n",
    "print('Log loss for best alpha on train data: {}'.format(log_loss(train_labels, predict_train)))\n",
    "print('Log loss for best alpha on test data: {}'.format(log_loss(test_labels, predict_test)))\n",
    "\n",
    "print('\\n')\n",
    "\n",
    "# Convert probabilities to 0 or 1 and plot test confusion matrices\n",
    "predicted = np.argmax(predict_test, axis=1)\n",
    "plot_confusion_matrices(test_labels, predicted)"
   ]
  },
  {
   "cell_type": "code",
   "execution_count": null,
   "metadata": {
    "id": "MjuFsGy7JWDz"
   },
   "outputs": [],
   "source": [
    "# Dumping the model into a pickel file\n",
    "\n",
    "pickle.dump(gbdt_clf, open('/content/drive/My Drive/Fake News Detection/GBDT_model.pkl', 'wb'))"
   ]
  },
  {
   "cell_type": "code",
   "execution_count": null,
   "metadata": {
    "colab": {
     "base_uri": "https://localhost:8080/"
    },
    "id": "-MCxeJQO2uGg",
    "outputId": "7fa4a9cf-abe3-458a-eced-8b7ace414b85"
   },
   "outputs": [
    {
     "name": "stdout",
     "output_type": "stream",
     "text": [
      "Train Accuracy: 0.9997566317838891\n",
      "Test Accuracy: 0.9981440237564959\n"
     ]
    }
   ],
   "source": [
    "# Convert probabilities to 0 or 1 and calculate accuracy\n",
    "predicted_train = np.argmax(predict_train, axis=1)\n",
    "predicted_test = np.argmax(predict_test, axis=1)\n",
    "\n",
    "# Accuracy\n",
    "train_score = accuracy_score(train_labels, predicted_train)\n",
    "test_score = accuracy_score(test_labels, predicted_test)\n",
    "print(\"Train Accuracy:\", train_score)\n",
    "print(\"Test Accuracy:\", test_score)"
   ]
  },
  {
   "cell_type": "code",
   "execution_count": null,
   "metadata": {},
   "outputs": [],
   "source": []
  },
  {
   "cell_type": "code",
   "execution_count": null,
   "metadata": {},
   "outputs": [],
   "source": []
  },
  {
   "cell_type": "code",
   "execution_count": null,
   "metadata": {},
   "outputs": [],
   "source": []
  },
  {
   "cell_type": "markdown",
   "metadata": {
    "id": "6X0zDE70i2Ww"
   },
   "source": [
    "### Random Forest with Hyperparameter tuning"
   ]
  },
  {
   "cell_type": "code",
   "execution_count": null,
   "metadata": {
    "colab": {
     "base_uri": "https://localhost:8080/"
    },
    "id": "F2jXLATB64uX",
    "outputId": "b453e3d3-4e05-423f-f1ff-dd2fdd473c97"
   },
   "outputs": [
    {
     "name": "stdout",
     "output_type": "stream",
     "text": [
      "Running at depth: 4, n_estimators: 100\n",
      "Running at depth: 4, n_estimators: 500\n",
      "Running at depth: 4, n_estimators: 1000\n",
      "Running at depth: 4, n_estimators: 1500\n",
      "Running at depth: 6, n_estimators: 100\n",
      "Running at depth: 6, n_estimators: 500\n",
      "Running at depth: 6, n_estimators: 1000\n",
      "Running at depth: 6, n_estimators: 1500\n",
      "Running at depth: 8, n_estimators: 100\n",
      "Running at depth: 8, n_estimators: 500\n",
      "Running at depth: 8, n_estimators: 1000\n",
      "Running at depth: 8, n_estimators: 1500\n",
      "Running at depth: 10, n_estimators: 100\n",
      "Running at depth: 10, n_estimators: 500\n",
      "Running at depth: 10, n_estimators: 1000\n",
      "Running at depth: 10, n_estimators: 1500\n"
     ]
    }
   ],
   "source": [
    "# list of hyperparameters to iterate over\n",
    "max_depth = [4, 6, 8, 10]\n",
    "n_estimators = [100, 500, 1000, 1500]\n",
    "\n",
    "# list to store log-loss results\n",
    "result_logloss = []\n",
    "\n",
    "# Iterating over max_depth\n",
    "for depth in max_depth:\n",
    "  # store log loss for this iteration\n",
    "  logloss = []\n",
    "  # Iterate over n_estimators\n",
    "  for n in n_estimators:\n",
    "    print('Running at depth: {}, n_estimators: {}'.format(depth, n))\n",
    "\n",
    "    # Initialize model\n",
    "    gbdt_clf = RandomForestClassifier(max_depth=depth, n_estimators=n, n_jobs=-1, random_state=42)\n",
    "\n",
    "    # Fitting on train data\n",
    "    gbdt_clf.fit(model_train, train_labels)\n",
    "\n",
    "    # Predict on test data\n",
    "    pred_prob = gbdt_clf.predict_proba(model_test)\n",
    "\n",
    "    # Get log-loss on predictions\n",
    "    loss = (log_loss(test_labels, pred_prob))\n",
    "    logloss.append(loss)\n",
    "\n",
    "  result_logloss.append(logloss)"
   ]
  },
  {
   "cell_type": "code",
   "execution_count": null,
   "metadata": {
    "colab": {
     "base_uri": "https://localhost:8080/",
     "height": 501
    },
    "id": "yU_TgGIo7IcB",
    "outputId": "49350ca7-961f-4108-d71e-acffe107ed51"
   },
   "outputs": [
    {
     "data": {
      "image/png": "[encoded data removed]",
      "text/plain": [
       "<Figure size 1080x576 with 2 Axes>"
      ]
     },
     "metadata": {
      "needs_background": "light"
     },
     "output_type": "display_data"
    }
   ],
   "source": [
    "# Plot log loss heatmap\n",
    "plt.figure(figsize=(15,8))\n",
    "sns.heatmap(result_logloss, annot=True, fmt='.3f', xticklabels=n_estimators, yticklabels=max_depth)\n",
    "plt.title('Depth vs Estimators LogLoss')\n",
    "\n",
    "plt.show()"
   ]
  },
  {
   "cell_type": "code",
   "execution_count": null,
   "metadata": {
    "colab": {
     "base_uri": "https://localhost:8080/",
     "height": 418
    },
    "id": "ObIABaQM6YTR",
    "outputId": "ddbdb537-f319-49d8-bee7-41911c12fff2"
   },
   "outputs": [
    {
     "name": "stdout",
     "output_type": "stream",
     "text": [
      "Log loss for best alpha on train data: 0.2733573332621843\n",
      "Log loss for best alpha on test data: 0.2865878275625186\n",
      "\n",
      "\n"
     ]
    },
    {
     "data": {
      "image/png": "[encoded data removed]",
      "text/plain": [
       "<Figure size 1728x432 with 6 Axes>"
      ]
     },
     "metadata": {
      "needs_background": "light"
     },
     "output_type": "display_data"
    }
   ],
   "source": [
    "# Setting best hyperparameters\n",
    "n_estimators=100\n",
    "max_depth= 10 \n",
    "\n",
    "# Initialize model\n",
    "rf_clf = RandomForestClassifier(max_depth=max_depth, n_estimators=n_estimators, criterion='gini', n_jobs=-1, random_state=42)\n",
    "\n",
    "# Fitting on train data\n",
    "rf_clf.fit(model_train, train_labels)\n",
    "\n",
    "# Predict\n",
    "predict_train = rf_clf.predict_proba(model_train)\n",
    "predict_test = rf_clf.predict_proba(model_test)\n",
    "\n",
    "print('Log loss for best alpha on train data: {}'.format(log_loss(train_labels, predict_train)))\n",
    "print('Log loss for best alpha on test data: {}'.format(log_loss(test_labels, predict_test)))\n",
    "\n",
    "print('\\n')\n",
    "\n",
    "# Convert probabilities to 0 or 1 and plot test confusion matrices\n",
    "predicted = np.argmax(predict_test, axis=1)\n",
    "plot_confusion_matrices(test_labels, predicted)"
   ]
  },
  {
   "cell_type": "code",
   "execution_count": null,
   "metadata": {
    "id": "FV_p5KNYJdwX"
   },
   "outputs": [],
   "source": [
    "# Dumping the model into a pickel file\n",
    "\n",
    "pickle.dump(rf_clf, open('/content/drive/My Drive/Fake News Detection/RF_model.pkl', 'wb'))"
   ]
  },
  {
   "cell_type": "code",
   "execution_count": null,
   "metadata": {
    "colab": {
     "base_uri": "https://localhost:8080/"
    },
    "id": "F6GOh7yP6YWB",
    "outputId": "46eb5fad-6ab4-428c-fa85-a86cf74caa14"
   },
   "outputs": [
    {
     "name": "stdout",
     "output_type": "stream",
     "text": [
      "Accuracy_train = 99.340\n",
      "Accuracy_test = 99.035\n"
     ]
    }
   ],
   "source": [
    "# Evaluate using the GBDT\n",
    "predictions_train = rf_clf.predict(model_train)\n",
    "predictions_test = rf_clf.predict(model_test)\n",
    "\n",
    "accuracy_train = np.mean((train_labels == predictions_train).astype(np.float)) * 100.\n",
    "accuracy_test = np.mean((test_labels == predictions_test).astype(np.float)) * 100.\n",
    "print(f\"Accuracy_train = {accuracy_train:.3f}\")\n",
    "print(f\"Accuracy_test = {accuracy_test:.3f}\")"
   ]
  },
  {
   "cell_type": "code",
   "execution_count": null,
   "metadata": {
    "colab": {
     "base_uri": "https://localhost:8080/"
    },
    "id": "6LCTUDf62wt3",
    "outputId": "a12e7f59-7ac5-4836-941a-ac503a15b3f4"
   },
   "outputs": [
    {
     "name": "stdout",
     "output_type": "stream",
     "text": [
      "Train Accuracy: 0.9933986371379898\n",
      "Test Accuracy: 0.9903489235337788\n"
     ]
    }
   ],
   "source": [
    "# Convert probabilities to 0 or 1 and calculate accuracy\n",
    "predicted_train = np.argmax(predict_train, axis=1)\n",
    "predicted_test = np.argmax(predict_test, axis=1)\n",
    "\n",
    "# Accuracy\n",
    "train_score = accuracy_score(train_labels, predicted_train)\n",
    "test_score = accuracy_score(test_labels, predicted_test)\n",
    "print(\"Train Accuracy:\", train_score)\n",
    "print(\"Test Accuracy:\", test_score)"
   ]
  },
  {
   "cell_type": "code",
   "execution_count": null,
   "metadata": {},
   "outputs": [],
   "source": []
  },
  {
   "cell_type": "markdown",
   "metadata": {},
   "source": [
    "# Finally Done with Training :"
   ]
  }
 ],
 "metadata": {
  "accelerator": "TPU",
  "colab": {
   "authorship_tag": "ABX9TyOX9zH3f1qjeQ6Ir9EIEyxm",
   "collapsed_sections": [],
   "include_colab_link": true,
   "machine_shape": "hm",
   "name": "FakeNewsDetection_TFIDF_Vectorization.ipynb",
   "provenance": []
  },
  "kernelspec": {
   "display_name": "Python 3 (ipykernel)",
   "language": "python",
   "name": "python3"
  },
  "language_info": {
   "codemirror_mode": {
    "name": "ipython",
    "version": 3
   },
   "file_extension": ".py",
   "mimetype": "text/x-python",
   "name": "python",
   "nbconvert_exporter": "python",
   "pygments_lexer": "ipython3",
   "version": "3.11.4"
  }
 },
 "nbformat": 4,
 "nbformat_minor": 4
}
